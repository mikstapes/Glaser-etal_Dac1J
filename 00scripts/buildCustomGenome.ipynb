{
 "cells": [
  {
   "cell_type": "code",
   "execution_count": null,
   "id": "6261f005-81c5-44aa-a7b0-e595aff30af4",
   "metadata": {
    "execution": {
     "iopub.execute_input": "2023-01-12T07:31:03.245293Z",
     "iopub.status.busy": "2023-01-12T07:31:03.244622Z",
     "iopub.status.idle": "2023-01-12T07:31:05.838096Z",
     "shell.execute_reply": "2023-01-12T07:31:05.836574Z",
     "shell.execute_reply.started": "2023-01-12T07:31:03.245242Z"
    },
    "tags": []
   },
   "outputs": [],
   "source": [
    "from Bio.Seq import Seq\n",
    "from Bio import SeqIO\n",
    "import os\n",
    "\n",
    "here = '/path/to/wkdir'\n",
    "fa_dir = os.path.join(here, 'reference', 'mm10')\n",
    "proj_dir = os.path.join(here, 'juliane_dac')\n",
    "\n",
    "def parseFastq(path):\n",
    "    seq = \"\"\n",
    "    with open(path, 'r') as infile:\n",
    "        next(infile)\n",
    "        for line in infile:\n",
    "            seq += line.strip()\n",
    "    return seq\n",
    "\n",
    "custom_ref=[]\n",
    "with open(os.path.join(proj_dir, 'custom_genome_position.txt'), 'rt') as f:\n",
    "    for line in f:\n",
    "        var = line.split()\n",
    "        custom_ref.append(var[0:])\n",
    "        ins, chrom, pos = var[:3]\n",
    "        customChrom = var[1] + '_' + var[0]\n",
    "        \n",
    "        ## make new ref dir\n",
    "        outPath = os.path.join(proj_dir, '_ref', var[0])\n",
    "        if not os.path.exists(outPath):\n",
    "            os.mkdir(outPath)\n",
    "            \n",
    "        ## parse insert sequence as string\n",
    "        insertSeq = parseFastq(os.path.join(proj_dir, var[0] + '.fastq'))\n",
    "            \n",
    "        ## parsing original fasta to write new file w/ desired insertion\n",
    "        with open(os.path.join(outPath, customChrom + '.fa'), 'w') as out:\n",
    "            for rec in SeqIO.parse(os.path.join(fa_dir, chrom + '.fa'), 'fasta'):\n",
    "                rec.id = customChrom\n",
    "                str_rec = str(rec.seq)\n",
    "                rec.seq = Seq(str_rec[0:int(pos)] + insertSeq + str_rec[int(pos):])\n",
    "                SeqIO.write(rec, out, 'fasta')"
   ]
  }
 ],
 "metadata": {
  "kernelspec": {
   "display_name": "Python 3 (ipykernel)",
   "language": "python",
   "name": "python3"
  },
  "language_info": {
   "codemirror_mode": {
    "name": "ipython",
    "version": 3
   },
   "file_extension": ".py",
   "mimetype": "text/x-python",
   "name": "python",
   "nbconvert_exporter": "python",
   "pygments_lexer": "ipython3",
   "version": "3.9.10"
  }
 },
 "nbformat": 4,
 "nbformat_minor": 5
}
